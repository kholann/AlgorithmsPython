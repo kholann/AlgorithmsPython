{
 "cells": [
  {
   "cell_type": "code",
   "execution_count": 1,
   "metadata": {},
   "outputs": [],
   "source": [
    "#1. Найти сумму и произведение цифр трехзначного числа, которое вводит пользователь."
   ]
  },
  {
   "cell_type": "code",
   "execution_count": 4,
   "metadata": {},
   "outputs": [
    {
     "name": "stdout",
     "output_type": "stream",
     "text": [
      "Введите трехзначное число: 202\n",
      "Сумма цифр числа 202: 4\n",
      "Произведение цифр: 202: 0\n"
     ]
    }
   ],
   "source": [
    "number = input('Введите трехзначное число: ')\n",
    "\n",
    "sum = 0\n",
    "mult = 1\n",
    "\n",
    "for n in number:\n",
    "    sum += int(n)\n",
    "    mult *= int(n)\n",
    "print(f\"Сумма цифр числа {number}: {sum}\")\n",
    "print(f\"Произведение цифр: {number}: {mult}\")"
   ]
  },
  {
   "cell_type": "code",
   "execution_count": 10,
   "metadata": {},
   "outputs": [],
   "source": [
    "#2. Выполнить логические побитовые операции «И», «ИЛИ» и др. над числами 5 и 6. \n",
    "# Выполнить над числом 5 побитовый сдвиг вправо и влево на два знака. Объяснить полученный результат"
   ]
  },
  {
   "cell_type": "code",
   "execution_count": 11,
   "metadata": {},
   "outputs": [
    {
     "name": "stdout",
     "output_type": "stream",
     "text": [
      "-6\n",
      "-7\n"
     ]
    }
   ],
   "source": [
    "a=5\n",
    "b=6\n",
    "\n",
    "# В битовом операторе (операции) ~ инверсия значение любого бита числа изменяется на противоположное.\n",
    "print(~a)\n",
    "print(~b)"
   ]
  },
  {
   "cell_type": "code",
   "execution_count": 12,
   "metadata": {},
   "outputs": [
    {
     "name": "stdout",
     "output_type": "stream",
     "text": [
      "5>>2 =  1\n"
     ]
    }
   ],
   "source": [
    "# Операторы сдвига влево << и сдвига вправо >> сдвигают каждый бит на одну или несколько позиций влево или вправо.\n",
    "# сдвиг вправо >> (целочисленное деление на 2*2=4, то есть 5/4 = 1)\n",
    "print('5>>2 = ', a >> 2)"
   ]
  },
  {
   "cell_type": "code",
   "execution_count": 13,
   "metadata": {},
   "outputs": [
    {
     "name": "stdout",
     "output_type": "stream",
     "text": [
      "5<<2 =  20\n"
     ]
    }
   ],
   "source": [
    "# сдвиг влево << (умножение на 2*2=4, то есть 5*4=20)\n",
    "print('5<<2 = ', a << 2)"
   ]
  },
  {
   "cell_type": "code",
   "execution_count": 14,
   "metadata": {},
   "outputs": [
    {
     "name": "stdout",
     "output_type": "stream",
     "text": [
      "4\n"
     ]
    }
   ],
   "source": [
    "# Битовый оператор И (AND)\n",
    "print(a&b)"
   ]
  },
  {
   "cell_type": "code",
   "execution_count": 15,
   "metadata": {},
   "outputs": [
    {
     "name": "stdout",
     "output_type": "stream",
     "text": [
      "3\n"
     ]
    }
   ],
   "source": [
    "# Битовый оператор ^ (исключающее ИЛИ, XOR)\n",
    "print(a^b)"
   ]
  },
  {
   "cell_type": "code",
   "execution_count": 16,
   "metadata": {},
   "outputs": [
    {
     "name": "stdout",
     "output_type": "stream",
     "text": [
      "7\n"
     ]
    }
   ],
   "source": [
    "# Битовый оператор | ИЛИ (OR)\n",
    "print(a|b)"
   ]
  },
  {
   "cell_type": "code",
   "execution_count": 18,
   "metadata": {},
   "outputs": [
    {
     "name": "stdout",
     "output_type": "stream",
     "text": [
      "Введите кординаты (x1 y1 x2 y2): 1 2 3 4\n",
      "Уравнение прямой: y = 1.0x + 1.0\n"
     ]
    }
   ],
   "source": [
    "# 3. По введенным пользователем координатам двух точек вывести уравнение прямой вида y=kx+b, \n",
    "# проходящей через эти точки.\n",
    "x1, y1, x2, y2 = [\n",
    "    int(x) for x in input('Введите кординаты (x1 y1 x2 y2): ').split()\n",
    "]\n",
    "k = (y2 - y1)/(x2 - x1)\n",
    "b = y1 - k * x1\n",
    "\n",
    "print(f'Уравнение прямой: y = {k}x + {b}')"
   ]
  },
  {
   "cell_type": "code",
   "execution_count": 19,
   "metadata": {},
   "outputs": [],
   "source": [
    "# 4. Написать программу, которая генерирует в указанных пользователем границах:\n",
    "# случайное целое число;\n",
    "# случайное вещественное число;\n",
    "# случайный символ.\n",
    "# Для каждого из трех случаев пользователь задает свои границы диапазона. Например, если надо получить случайный \n",
    "# символ от 'a' до 'f', то вводятся эти символы. \n",
    "# Программа должна вывести на экран любой символ алфавита от 'a' до 'f' включительно.\n",
    "import random"
   ]
  },
  {
   "cell_type": "code",
   "execution_count": 29,
   "metadata": {},
   "outputs": [
    {
     "name": "stdout",
     "output_type": "stream",
     "text": [
      "Ведите границы для случайного целого числа:\n",
      "a1 = 4\n",
      "a2 = 78\n",
      "Ведите границы для случайного вещественного числа:\n",
      "b1 = 4.8\n",
      "b2 = 8.9\n",
      "Ведите границы для случайного символа:\n",
      "c1 = f\n",
      "c2 = k\n",
      "Случайное целое число: 51\n",
      "Случайное вещественное число: 6.474060483599567\n",
      "Случайный символ: \"H\"\n"
     ]
    }
   ],
   "source": [
    "print('Ведите границы для случайного целого числа:')\n",
    "a1 = int(input('a1 = '))\n",
    "a2 = int(input('a2 = '))\n",
    "print('Ведите границы для случайного вещественного числа:')\n",
    "b1 = float(input('b1 = '))\n",
    "b2 = float(input('b2 = '))\n",
    "print('Ведите границы для случайного символа:')\n",
    "c1 = input('c1 = ').upper()\n",
    "c2 = input('c2 = ').upper()\n",
    "\n",
    "_int = random.randint(a1, a2)\n",
    "_float = random.uniform(b1, b2)\n",
    "_c = chr(random.randint(ord(c1), ord(c2)))\n",
    "\n",
    "print(f'Случайное целое число: {_int}\\n'\n",
    "      f'Случайное вещественное число: {_float}\\n'\n",
    "      f'Случайный символ: \"{_c}\"')"
   ]
  },
  {
   "cell_type": "code",
   "execution_count": 30,
   "metadata": {},
   "outputs": [],
   "source": [
    "# 5. Пользователь вводит две буквы. Определить, на каких местах алфавита они стоят \n",
    "# и сколько между ними находится букв."
   ]
  },
  {
   "cell_type": "code",
   "execution_count": 33,
   "metadata": {},
   "outputs": [
    {
     "name": "stdout",
     "output_type": "stream",
     "text": [
      "Введите две буквы латинского алфавита (A - Z):\n",
      "c1 = E\n",
      "c2 = R\n",
      "Буква \"E\" 5-я в алфавите\n",
      "Буква \"R\" 18-я в алфавите\n",
      "Между буквами 12 букв\n"
     ]
    }
   ],
   "source": [
    "print('Введите две буквы латинского алфавита (A - Z):')\n",
    "c1 = input('c1 = ')\n",
    "c2 = input('c2 = ')\n",
    "\n",
    "pos_1 = ord(c1) - 64\n",
    "pos_2 = ord(c2) - 64\n",
    "dist = abs(pos_1 - pos_2) - 1\n",
    "print(f'Буква \"{c1}\" {pos_1}-я в алфавите\\n'\n",
    "      f'Буква \"{c2}\" {pos_2}-я в алфавите\\n'\n",
    "      f'Между буквами {dist} букв')\n"
   ]
  },
  {
   "cell_type": "code",
   "execution_count": 34,
   "metadata": {},
   "outputs": [],
   "source": [
    "# 6. Пользователь вводит номер буквы в алфавите. Определить, какая это буква."
   ]
  },
  {
   "cell_type": "code",
   "execution_count": 36,
   "metadata": {},
   "outputs": [
    {
     "name": "stdout",
     "output_type": "stream",
     "text": [
      "Введите номер буквы в латинском алфавите:\n",
      "7\n",
      "Это буква \"G\"\n"
     ]
    }
   ],
   "source": [
    "print('Введите номер буквы в латинском алфавите:')\n",
    "n = int(input())\n",
    "c = chr(n + 64)\n",
    "print(f'Это буква \"{c}\"')"
   ]
  },
  {
   "cell_type": "code",
   "execution_count": 37,
   "metadata": {},
   "outputs": [],
   "source": [
    "# 7. По длинам трех отрезков, введенных пользователем, определить возможность существования треугольника, \n",
    "# составленного из этих отрезков. Если такой треугольник существует, то определить, \n",
    "# является ли он разносторонним, равнобедренным или равносторонним."
   ]
  },
  {
   "cell_type": "code",
   "execution_count": 39,
   "metadata": {},
   "outputs": [
    {
     "name": "stdout",
     "output_type": "stream",
     "text": [
      "Введите длины трех отрезков:\n",
      "a = 7\n",
      "b = 7\n",
      "c = 8\n",
      "Треугольник равнобедренный\n"
     ]
    }
   ],
   "source": [
    "print('Введите длины трех отрезков:')\n",
    "a = float(input('a = '))\n",
    "b = float(input('b = '))\n",
    "c = float(input('c = '))\n",
    "\n",
    "if a + b >= c and a + c >= b and b + c >= a:\n",
    "    if a == b or b == c or c == a:\n",
    "        if a == b and a == c:\n",
    "            print('Треугольник равносторонний')\n",
    "        else:\n",
    "            print('Треугольник равнобедренный')\n",
    "    else:\n",
    "        print('Треугольник разносторонний')\n",
    "else:\n",
    "    print('Это не треугольник')"
   ]
  },
  {
   "cell_type": "code",
   "execution_count": 40,
   "metadata": {},
   "outputs": [],
   "source": [
    "# 8. Определить, является ли год, который ввел пользователем, високосным или невисокосным."
   ]
  },
  {
   "cell_type": "code",
   "execution_count": 41,
   "metadata": {},
   "outputs": [
    {
     "name": "stdout",
     "output_type": "stream",
     "text": [
      "Введите год: 2060\n",
      "Год високосный\n"
     ]
    }
   ],
   "source": [
    "year = int(input('Введите год: '))\n",
    "\n",
    "if year % 4 == 0 and year % 100 != 0 or year % 400 == 0:\n",
    "    print('Год високосный')\n",
    "else:\n",
    "    print('Год невисокосный')"
   ]
  },
  {
   "cell_type": "code",
   "execution_count": 42,
   "metadata": {},
   "outputs": [],
   "source": [
    "# 9. Вводятся три разных числа. Найти, какое из них является средним (больше одного, но меньше другого)."
   ]
  },
  {
   "cell_type": "code",
   "execution_count": 43,
   "metadata": {},
   "outputs": [
    {
     "name": "stdout",
     "output_type": "stream",
     "text": [
      "Ведите 3 разных числа:\n",
      "a = 5\n",
      "b = 8\n",
      "c = 34\n",
      "Число 8.0 - среднее\n"
     ]
    }
   ],
   "source": [
    "print('Ведите 3 разных числа:')\n",
    "a = float(input('a = '))\n",
    "b = float(input('b = '))\n",
    "c = float(input('c = '))\n",
    "\n",
    "mid = a + b + c - max(a, b, c) - min(a, b, c)\n",
    "\n",
    "print(f'Число {mid} - среднее')\n"
   ]
  },
  {
   "cell_type": "code",
   "execution_count": null,
   "metadata": {},
   "outputs": [],
   "source": []
  }
 ],
 "metadata": {
  "kernelspec": {
   "display_name": "Python 3",
   "language": "python",
   "name": "python3"
  },
  "language_info": {
   "codemirror_mode": {
    "name": "ipython",
    "version": 3
   },
   "file_extension": ".py",
   "mimetype": "text/x-python",
   "name": "python",
   "nbconvert_exporter": "python",
   "pygments_lexer": "ipython3",
   "version": "3.8.5"
  }
 },
 "nbformat": 4,
 "nbformat_minor": 4
}
