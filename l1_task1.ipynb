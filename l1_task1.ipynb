{
 "cells": [
  {
   "cell_type": "code",
   "execution_count": 1,
   "metadata": {},
   "outputs": [],
   "source": [
    "#1. Найти сумму и произведение цифр трехзначного числа, которое вводит пользователь."
   ]
  },
  {
   "cell_type": "code",
   "execution_count": 4,
   "metadata": {},
   "outputs": [
    {
     "name": "stdout",
     "output_type": "stream",
     "text": [
      "Введите трехзначное число: 202\n",
      "Сумма цифр числа 202: 4\n",
      "Произведение цифр: 202: 0\n"
     ]
    }
   ],
   "source": [
    "number = input('Введите трехзначное число: ')\n",
    "\n",
    "sum = 0\n",
    "mult = 1\n",
    "\n",
    "for n in number:\n",
    "    sum += int(n)\n",
    "    mult *= int(n)\n",
    "print(f\"Сумма цифр числа {number}: {sum}\")\n",
    "print(f\"Произведение цифр: {number}: {mult}\")"
   ]
  },
  {
   "cell_type": "code",
   "execution_count": null,
   "metadata": {},
   "outputs": [],
   "source": []
  }
 ],
 "metadata": {
  "kernelspec": {
   "display_name": "Python 3",
   "language": "python",
   "name": "python3"
  },
  "language_info": {
   "codemirror_mode": {
    "name": "ipython",
    "version": 3
   },
   "file_extension": ".py",
   "mimetype": "text/x-python",
   "name": "python",
   "nbconvert_exporter": "python",
   "pygments_lexer": "ipython3",
   "version": "3.8.5"
  }
 },
 "nbformat": 4,
 "nbformat_minor": 4
}
